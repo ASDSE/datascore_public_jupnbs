{
 "cells": [
  {
   "cell_type": "code",
   "execution_count": 1,
   "metadata": {},
   "outputs": [],
   "source": [
    "import requests\n",
    "from gql import gql, Client, RequestsHTTPTransport\n",
    "from IPython.display import display, Markdown\n",
    "import asyncio\n",
    "\n",
    "_transport = RequestsHTTPTransport(\n",
    "    url='https://api.datacite.org/graphql',\n",
    "    use_json=True,\n",
    ")\n",
    "\n",
    "\n",
    "client = Client(\n",
    "    transport=_transport,\n",
    "    fetch_schema_from_transport=True,\n",
    ")"
   ]
  },
  {
   "cell_type": "code",
   "execution_count": 2,
   "metadata": {},
   "outputs": [
    {
     "data": {
      "text/markdown": [
       "Nicholas Deutscher"
      ],
      "text/plain": [
       "<IPython.core.display.Markdown object>"
      ]
     },
     "metadata": {},
     "output_type": "display_data"
    }
   ],
   "source": [
    "# paste the designed and tested (graphqli) query \n",
    "query_string = \"\"\"\n",
    "{\n",
    "  person(id: \"https://orcid.org/0000-0002-2906-2577\") {\n",
    "    id\n",
    "    name\n",
    "    datasets {\n",
    "      nodes {\n",
    "        id\n",
    "        downloadCount\n",
    "        viewCount\n",
    "        citations {\n",
    "          totalCount\n",
    "        }\n",
    "      }\n",
    "    }\n",
    "    publications {\n",
    "      totalCount\n",
    "      nodes {\n",
    "        id\n",
    "        relatedIdentifiers {\n",
    "          relatedIdentifier\n",
    "        }\n",
    "      }\n",
    "    }\n",
    "  }\n",
    "}\n",
    "\n",
    "\"\"\"\n",
    "\n",
    "query = gql(query_string)\n",
    "data = client.execute(query)\n",
    "display(Markdown((data['person']['name'])))\n"
   ]
  },
  {
   "cell_type": "code",
   "execution_count": 3,
   "metadata": {},
   "outputs": [
    {
     "data": {
      "text/plain": [
       "[{'id': 'https://doi.org/10.14291/tccon.ggg2014.darwin01.r0/1149290',\n",
       "  'downloadCount': 6,\n",
       "  'viewCount': 75,\n",
       "  'citations': {'totalCount': 24}},\n",
       " {'id': 'https://doi.org/10.14291/tccon.ggg2014.wollongong01.r0/1149291',\n",
       "  'downloadCount': 7,\n",
       "  'viewCount': 65,\n",
       "  'citations': {'totalCount': 20}}]"
      ]
     },
     "execution_count": 3,
     "metadata": {},
     "output_type": "execute_result"
    }
   ],
   "source": [
    "# sort the payload dict for total citation counts\n",
    "ordered = sorted(data['person']['datasets']['nodes'], key=lambda i: i[\"citations\"][\"totalCount\"], reverse=True)\n",
    "ordered[:2]\n"
   ]
  },
  {
   "cell_type": "code",
   "execution_count": 4,
   "metadata": {},
   "outputs": [],
   "source": [
    "# reformat the dict for data analysis \n",
    "\n",
    "agg=[]\n",
    "\n",
    "for dataset in ordered:\n",
    "    agg.append(\n",
    "        {'id':dataset['id'],\n",
    "          'downloadCount': dataset['downloadCount'],\n",
    "          'viewCount': dataset['viewCount'],\n",
    "          'citationCount': dataset['citations']['totalCount']\n",
    "        }\n",
    "    )\n",
    "  \n",
    "    #print(node)\n",
    "#agg\n"
   ]
  },
  {
   "cell_type": "code",
   "execution_count": 5,
   "metadata": {},
   "outputs": [
    {
     "data": {
      "text/plain": [
       "list"
      ]
     },
     "execution_count": 5,
     "metadata": {},
     "output_type": "execute_result"
    }
   ],
   "source": [
    "agg.__class__"
   ]
  },
  {
   "cell_type": "code",
   "execution_count": 6,
   "metadata": {},
   "outputs": [],
   "source": [
    "import matplotlib as mpl\n",
    "import matplotlib.pyplot as plt\n",
    "plt.style.use('ggplot')\n",
    "import pandas as pd"
   ]
  },
  {
   "cell_type": "code",
   "execution_count": 33,
   "metadata": {},
   "outputs": [],
   "source": [
    "datasets_data = pd.DataFrame(agg)"
   ]
  },
  {
   "cell_type": "code",
   "execution_count": 8,
   "metadata": {},
   "outputs": [
    {
     "data": {
      "text/html": [
       "<div>\n",
       "<style scoped>\n",
       "    .dataframe tbody tr th:only-of-type {\n",
       "        vertical-align: middle;\n",
       "    }\n",
       "\n",
       "    .dataframe tbody tr th {\n",
       "        vertical-align: top;\n",
       "    }\n",
       "\n",
       "    .dataframe thead th {\n",
       "        text-align: right;\n",
       "    }\n",
       "</style>\n",
       "<table border=\"1\" class=\"dataframe\">\n",
       "  <thead>\n",
       "    <tr style=\"text-align: right;\">\n",
       "      <th></th>\n",
       "      <th>id</th>\n",
       "      <th>downloadCount</th>\n",
       "      <th>viewCount</th>\n",
       "      <th>citationCount</th>\n",
       "    </tr>\n",
       "  </thead>\n",
       "  <tbody>\n",
       "    <tr>\n",
       "      <th>0</th>\n",
       "      <td>https://doi.org/10.14291/tccon.ggg2014.darwin0...</td>\n",
       "      <td>6</td>\n",
       "      <td>75</td>\n",
       "      <td>24</td>\n",
       "    </tr>\n",
       "    <tr>\n",
       "      <th>1</th>\n",
       "      <td>https://doi.org/10.14291/tccon.ggg2014.wollong...</td>\n",
       "      <td>7</td>\n",
       "      <td>65</td>\n",
       "      <td>20</td>\n",
       "    </tr>\n",
       "    <tr>\n",
       "      <th>2</th>\n",
       "      <td>https://doi.org/10.14291/tccon.ggg2014.orleans...</td>\n",
       "      <td>1</td>\n",
       "      <td>18</td>\n",
       "      <td>19</td>\n",
       "    </tr>\n",
       "    <tr>\n",
       "      <th>3</th>\n",
       "      <td>https://doi.org/10.14291/tccon.ggg2014.bremen0...</td>\n",
       "      <td>2</td>\n",
       "      <td>18</td>\n",
       "      <td>15</td>\n",
       "    </tr>\n",
       "    <tr>\n",
       "      <th>4</th>\n",
       "      <td>https://doi.org/10.14291/tccon.ggg2014.bialyst...</td>\n",
       "      <td>1</td>\n",
       "      <td>21</td>\n",
       "      <td>11</td>\n",
       "    </tr>\n",
       "    <tr>\n",
       "      <th>5</th>\n",
       "      <td>https://doi.org/10.14291/tccon.ggg2014.nyalesu...</td>\n",
       "      <td>1</td>\n",
       "      <td>10</td>\n",
       "      <td>1</td>\n",
       "    </tr>\n",
       "    <tr>\n",
       "      <th>6</th>\n",
       "      <td>https://doi.org/10.1594/pangaea.848263</td>\n",
       "      <td>0</td>\n",
       "      <td>0</td>\n",
       "      <td>0</td>\n",
       "    </tr>\n",
       "    <tr>\n",
       "      <th>7</th>\n",
       "      <td>https://doi.org/10.1594/pangaea.872007</td>\n",
       "      <td>0</td>\n",
       "      <td>0</td>\n",
       "      <td>0</td>\n",
       "    </tr>\n",
       "    <tr>\n",
       "      <th>8</th>\n",
       "      <td>https://doi.org/10.14291/tccon.ggg2014.nyalesu...</td>\n",
       "      <td>1</td>\n",
       "      <td>44</td>\n",
       "      <td>0</td>\n",
       "    </tr>\n",
       "    <tr>\n",
       "      <th>9</th>\n",
       "      <td>https://doi.org/10.14291/tccon.ggg2014.bremen0...</td>\n",
       "      <td>2</td>\n",
       "      <td>51</td>\n",
       "      <td>0</td>\n",
       "    </tr>\n",
       "    <tr>\n",
       "      <th>10</th>\n",
       "      <td>https://doi.org/10.14291/tccon.ggg2014.bialyst...</td>\n",
       "      <td>5</td>\n",
       "      <td>34</td>\n",
       "      <td>0</td>\n",
       "    </tr>\n",
       "    <tr>\n",
       "      <th>11</th>\n",
       "      <td>https://doi.org/10.14291/tccon.ggg2014.orleans...</td>\n",
       "      <td>5</td>\n",
       "      <td>55</td>\n",
       "      <td>0</td>\n",
       "    </tr>\n",
       "  </tbody>\n",
       "</table>\n",
       "</div>"
      ],
      "text/plain": [
       "                                                   id  downloadCount  \\\n",
       "0   https://doi.org/10.14291/tccon.ggg2014.darwin0...              6   \n",
       "1   https://doi.org/10.14291/tccon.ggg2014.wollong...              7   \n",
       "2   https://doi.org/10.14291/tccon.ggg2014.orleans...              1   \n",
       "3   https://doi.org/10.14291/tccon.ggg2014.bremen0...              2   \n",
       "4   https://doi.org/10.14291/tccon.ggg2014.bialyst...              1   \n",
       "5   https://doi.org/10.14291/tccon.ggg2014.nyalesu...              1   \n",
       "6              https://doi.org/10.1594/pangaea.848263              0   \n",
       "7              https://doi.org/10.1594/pangaea.872007              0   \n",
       "8   https://doi.org/10.14291/tccon.ggg2014.nyalesu...              1   \n",
       "9   https://doi.org/10.14291/tccon.ggg2014.bremen0...              2   \n",
       "10  https://doi.org/10.14291/tccon.ggg2014.bialyst...              5   \n",
       "11  https://doi.org/10.14291/tccon.ggg2014.orleans...              5   \n",
       "\n",
       "    viewCount  citationCount  \n",
       "0          75             24  \n",
       "1          65             20  \n",
       "2          18             19  \n",
       "3          18             15  \n",
       "4          21             11  \n",
       "5          10              1  \n",
       "6           0              0  \n",
       "7           0              0  \n",
       "8          44              0  \n",
       "9          51              0  \n",
       "10         34              0  \n",
       "11         55              0  "
      ]
     },
     "execution_count": 8,
     "metadata": {},
     "output_type": "execute_result"
    }
   ],
   "source": [
    "datasets_data"
   ]
  },
  {
   "cell_type": "code",
   "execution_count": 9,
   "metadata": {},
   "outputs": [
    {
     "data": {
      "text/html": [
       "<div>\n",
       "<style scoped>\n",
       "    .dataframe tbody tr th:only-of-type {\n",
       "        vertical-align: middle;\n",
       "    }\n",
       "\n",
       "    .dataframe tbody tr th {\n",
       "        vertical-align: top;\n",
       "    }\n",
       "\n",
       "    .dataframe thead th {\n",
       "        text-align: right;\n",
       "    }\n",
       "</style>\n",
       "<table border=\"1\" class=\"dataframe\">\n",
       "  <thead>\n",
       "    <tr style=\"text-align: right;\">\n",
       "      <th></th>\n",
       "      <th>downloadCount</th>\n",
       "      <th>viewCount</th>\n",
       "      <th>citationCount</th>\n",
       "    </tr>\n",
       "  </thead>\n",
       "  <tbody>\n",
       "    <tr>\n",
       "      <th>count</th>\n",
       "      <td>12.000000</td>\n",
       "      <td>12.000000</td>\n",
       "      <td>12.000000</td>\n",
       "    </tr>\n",
       "    <tr>\n",
       "      <th>mean</th>\n",
       "      <td>2.583333</td>\n",
       "      <td>32.583333</td>\n",
       "      <td>7.500000</td>\n",
       "    </tr>\n",
       "    <tr>\n",
       "      <th>std</th>\n",
       "      <td>2.466441</td>\n",
       "      <td>25.256712</td>\n",
       "      <td>9.577436</td>\n",
       "    </tr>\n",
       "    <tr>\n",
       "      <th>min</th>\n",
       "      <td>0.000000</td>\n",
       "      <td>0.000000</td>\n",
       "      <td>0.000000</td>\n",
       "    </tr>\n",
       "    <tr>\n",
       "      <th>25%</th>\n",
       "      <td>1.000000</td>\n",
       "      <td>16.000000</td>\n",
       "      <td>0.000000</td>\n",
       "    </tr>\n",
       "    <tr>\n",
       "      <th>50%</th>\n",
       "      <td>1.500000</td>\n",
       "      <td>27.500000</td>\n",
       "      <td>0.500000</td>\n",
       "    </tr>\n",
       "    <tr>\n",
       "      <th>75%</th>\n",
       "      <td>5.000000</td>\n",
       "      <td>52.000000</td>\n",
       "      <td>16.000000</td>\n",
       "    </tr>\n",
       "    <tr>\n",
       "      <th>max</th>\n",
       "      <td>7.000000</td>\n",
       "      <td>75.000000</td>\n",
       "      <td>24.000000</td>\n",
       "    </tr>\n",
       "  </tbody>\n",
       "</table>\n",
       "</div>"
      ],
      "text/plain": [
       "       downloadCount  viewCount  citationCount\n",
       "count      12.000000  12.000000      12.000000\n",
       "mean        2.583333  32.583333       7.500000\n",
       "std         2.466441  25.256712       9.577436\n",
       "min         0.000000   0.000000       0.000000\n",
       "25%         1.000000  16.000000       0.000000\n",
       "50%         1.500000  27.500000       0.500000\n",
       "75%         5.000000  52.000000      16.000000\n",
       "max         7.000000  75.000000      24.000000"
      ]
     },
     "metadata": {},
     "output_type": "display_data"
    },
    {
     "data": {
      "text/plain": [
       "id               https://doi.org/10.14291/tccon.ggg2014.darwin0...\n",
       "downloadCount                                                   31\n",
       "viewCount                                                      391\n",
       "citationCount                                                   90\n",
       "dtype: object"
      ]
     },
     "metadata": {},
     "output_type": "display_data"
    }
   ],
   "source": [
    "display(datasets_data.describe())\n",
    "display(datasets_data.sum())"
   ]
  },
  {
   "cell_type": "code",
   "execution_count": 18,
   "metadata": {
    "jupyter": {
     "source_hidden": true
    }
   },
   "outputs": [
    {
     "data": {
      "text/plain": [
       "5"
      ]
     },
     "execution_count": 18,
     "metadata": {},
     "output_type": "execute_result"
    }
   ],
   "source": [
    "def h_index(citationarray):\n",
    "    import numpy as np\n",
    "    descending_df = pd.DataFrame(citationarray)\n",
    "    descending_df.columns = ['count']\n",
    "    descending_df=descending_df.sort_values(by=['count'], ascending=False)\n",
    "    counter = [*range(len(descending_df['count'].index),0,-1)]\n",
    "    for dC in [*range(len(descending_df['count'].index),0,-1)]:\n",
    "        descending_df[dC] = descending_df.apply(lambda x : True\n",
    "                if x['count'] >= dC else False, axis = 1)\n",
    "\n",
    "        counter[len(descending_df['count'].index)-dC] = len(descending_df[dC][descending_df[dC] == True].index)\n",
    "    summary = pd.DataFrame({'count': descending_df['count'],'citation': [*range(len(descending_df['count'].index),0,-1)],'h_index': counter})\n",
    "    h=summary.loc[summary['citation'] == summary['h_index']]['h_index'].array[0]\n",
    "    return h\n",
    "h_index(datasets_data['citationCount'])"
   ]
  },
  {
   "cell_type": "code",
   "execution_count": 19,
   "metadata": {
    "jupyter": {
     "source_hidden": true
    }
   },
   "outputs": [],
   "source": [
    "def i10_index(citationarray):\n",
    "    series = citationarray.apply(lambda x: True if x > 0 else False)\n",
    "    cited_papers = len(series[series == True].index)\n",
    "    i10_column = citationarray.apply(lambda x: True if x >= 10 else False)\n",
    "    return len(i10_column[i10_column == True].index)"
   ]
  },
  {
   "cell_type": "code",
   "execution_count": 20,
   "metadata": {
    "jupyter": {
     "source_hidden": true
    }
   },
   "outputs": [],
   "source": [
    "def g_index(citationarray):\n",
    "    import numpy as np\n",
    "    import math\n",
    "    descending_df = pd.DataFrame(citationarray)\n",
    "    descending_df.columns = ['count']\n",
    "    descending_df=descending_df.sort_values(by=['count'], ascending=False)\n",
    "    series = descending_df.apply(lambda x: True if x['count'] > 0 else False , axis=1)\n",
    "    cited_papers = len(series[series == True].index)\n",
    "\n",
    "    ranger = [cited_papers,0,-1]\n",
    "    g_max = math.floor(np.sqrt(descending_df['count'].sum()))\n",
    "\n",
    "    if g_max <= cited_papers:\n",
    "        g = g_max\n",
    "    else:\n",
    "        g = 0\n",
    "        k = True\n",
    "        while k:\n",
    "            g += 1 \n",
    "            if g >= g_max:\n",
    "                k = False\n",
    "    return g"
   ]
  },
  {
   "cell_type": "code",
   "execution_count": 21,
   "metadata": {},
   "outputs": [
    {
     "data": {
      "text/html": [
       "<div>\n",
       "<style scoped>\n",
       "    .dataframe tbody tr th:only-of-type {\n",
       "        vertical-align: middle;\n",
       "    }\n",
       "\n",
       "    .dataframe tbody tr th {\n",
       "        vertical-align: top;\n",
       "    }\n",
       "\n",
       "    .dataframe thead th {\n",
       "        text-align: right;\n",
       "    }\n",
       "</style>\n",
       "<table border=\"1\" class=\"dataframe\">\n",
       "  <thead>\n",
       "    <tr style=\"text-align: right;\">\n",
       "      <th></th>\n",
       "      <th>sum</th>\n",
       "      <th>h-index (Young)</th>\n",
       "      <th>h-index</th>\n",
       "      <th>i10-index</th>\n",
       "      <th>g-index</th>\n",
       "    </tr>\n",
       "  </thead>\n",
       "  <tbody>\n",
       "    <tr>\n",
       "      <th>downloadCount</th>\n",
       "      <td>31</td>\n",
       "      <td>3.0</td>\n",
       "      <td>4</td>\n",
       "      <td>0</td>\n",
       "      <td>5</td>\n",
       "    </tr>\n",
       "    <tr>\n",
       "      <th>viewCount</th>\n",
       "      <td>391</td>\n",
       "      <td>10.7</td>\n",
       "      <td>10</td>\n",
       "      <td>10</td>\n",
       "      <td>19</td>\n",
       "    </tr>\n",
       "    <tr>\n",
       "      <th>citationCount</th>\n",
       "      <td>90</td>\n",
       "      <td>5.1</td>\n",
       "      <td>5</td>\n",
       "      <td>5</td>\n",
       "      <td>9</td>\n",
       "    </tr>\n",
       "  </tbody>\n",
       "</table>\n",
       "</div>"
      ],
      "text/plain": [
       "               sum  h-index (Young)  h-index  i10-index  g-index\n",
       "downloadCount   31              3.0        4          0        5\n",
       "viewCount      391             10.7       10         10       19\n",
       "citationCount   90              5.1        5          5        9"
      ]
     },
     "metadata": {},
     "output_type": "display_data"
    }
   ],
   "source": [
    "import numpy as np\n",
    "sums=pd.DataFrame(datasets_data.sum(), columns=['sum'])\n",
    "sums = sums.drop('id')\n",
    "sums['h-index (Young)'] = (0.54*np.sqrt(sums['sum'].astype(np.float64))).round(1)\n",
    "sums['h-index'] = [h_index(datasets_data['downloadCount']),h_index(datasets_data['viewCount']),h_index(datasets_data['citationCount'])]\n",
    "sums['i10-index'] = [i10_index(datasets_data['downloadCount']),i10_index(datasets_data['viewCount']),i10_index(datasets_data['citationCount'])]\n",
    "sums['g-index'] = [g_index(datasets_data['downloadCount']),g_index(datasets_data['viewCount']),g_index(datasets_data['citationCount'])]\n",
    "display(sums)\n"
   ]
  },
  {
   "cell_type": "code",
   "execution_count": 11,
   "metadata": {},
   "outputs": [
    {
     "data": {
      "text/html": [
       "<div>\n",
       "<style scoped>\n",
       "    .dataframe tbody tr th:only-of-type {\n",
       "        vertical-align: middle;\n",
       "    }\n",
       "\n",
       "    .dataframe tbody tr th {\n",
       "        vertical-align: top;\n",
       "    }\n",
       "\n",
       "    .dataframe thead th {\n",
       "        text-align: right;\n",
       "    }\n",
       "</style>\n",
       "<table border=\"1\" class=\"dataframe\">\n",
       "  <thead>\n",
       "    <tr style=\"text-align: right;\">\n",
       "      <th></th>\n",
       "      <th>id</th>\n",
       "      <th>downloadCount</th>\n",
       "      <th>viewCount</th>\n",
       "      <th>citationCount</th>\n",
       "      <th>Index</th>\n",
       "      <th>wtIndex</th>\n",
       "    </tr>\n",
       "  </thead>\n",
       "  <tbody>\n",
       "    <tr>\n",
       "      <th>0</th>\n",
       "      <td>https://doi.org/10.14291/tccon.ggg2014.darwin0...</td>\n",
       "      <td>6</td>\n",
       "      <td>75</td>\n",
       "      <td>24</td>\n",
       "      <td>105</td>\n",
       "      <td>183</td>\n",
       "    </tr>\n",
       "    <tr>\n",
       "      <th>1</th>\n",
       "      <td>https://doi.org/10.14291/tccon.ggg2014.wollong...</td>\n",
       "      <td>7</td>\n",
       "      <td>65</td>\n",
       "      <td>20</td>\n",
       "      <td>92</td>\n",
       "      <td>159</td>\n",
       "    </tr>\n",
       "    <tr>\n",
       "      <th>2</th>\n",
       "      <td>https://doi.org/10.14291/tccon.ggg2014.orleans...</td>\n",
       "      <td>1</td>\n",
       "      <td>18</td>\n",
       "      <td>19</td>\n",
       "      <td>38</td>\n",
       "      <td>96</td>\n",
       "    </tr>\n",
       "    <tr>\n",
       "      <th>3</th>\n",
       "      <td>https://doi.org/10.14291/tccon.ggg2014.bremen0...</td>\n",
       "      <td>2</td>\n",
       "      <td>18</td>\n",
       "      <td>15</td>\n",
       "      <td>35</td>\n",
       "      <td>82</td>\n",
       "    </tr>\n",
       "    <tr>\n",
       "      <th>4</th>\n",
       "      <td>https://doi.org/10.14291/tccon.ggg2014.bialyst...</td>\n",
       "      <td>1</td>\n",
       "      <td>21</td>\n",
       "      <td>11</td>\n",
       "      <td>33</td>\n",
       "      <td>67</td>\n",
       "    </tr>\n",
       "    <tr>\n",
       "      <th>5</th>\n",
       "      <td>https://doi.org/10.14291/tccon.ggg2014.nyalesu...</td>\n",
       "      <td>1</td>\n",
       "      <td>10</td>\n",
       "      <td>1</td>\n",
       "      <td>12</td>\n",
       "      <td>16</td>\n",
       "    </tr>\n",
       "    <tr>\n",
       "      <th>6</th>\n",
       "      <td>https://doi.org/10.1594/pangaea.848263</td>\n",
       "      <td>0</td>\n",
       "      <td>0</td>\n",
       "      <td>0</td>\n",
       "      <td>0</td>\n",
       "      <td>0</td>\n",
       "    </tr>\n",
       "    <tr>\n",
       "      <th>7</th>\n",
       "      <td>https://doi.org/10.1594/pangaea.872007</td>\n",
       "      <td>0</td>\n",
       "      <td>0</td>\n",
       "      <td>0</td>\n",
       "      <td>0</td>\n",
       "      <td>0</td>\n",
       "    </tr>\n",
       "    <tr>\n",
       "      <th>8</th>\n",
       "      <td>https://doi.org/10.14291/tccon.ggg2014.nyalesu...</td>\n",
       "      <td>1</td>\n",
       "      <td>44</td>\n",
       "      <td>0</td>\n",
       "      <td>45</td>\n",
       "      <td>46</td>\n",
       "    </tr>\n",
       "    <tr>\n",
       "      <th>9</th>\n",
       "      <td>https://doi.org/10.14291/tccon.ggg2014.bremen0...</td>\n",
       "      <td>2</td>\n",
       "      <td>51</td>\n",
       "      <td>0</td>\n",
       "      <td>53</td>\n",
       "      <td>55</td>\n",
       "    </tr>\n",
       "    <tr>\n",
       "      <th>10</th>\n",
       "      <td>https://doi.org/10.14291/tccon.ggg2014.bialyst...</td>\n",
       "      <td>5</td>\n",
       "      <td>34</td>\n",
       "      <td>0</td>\n",
       "      <td>39</td>\n",
       "      <td>44</td>\n",
       "    </tr>\n",
       "    <tr>\n",
       "      <th>11</th>\n",
       "      <td>https://doi.org/10.14291/tccon.ggg2014.orleans...</td>\n",
       "      <td>5</td>\n",
       "      <td>55</td>\n",
       "      <td>0</td>\n",
       "      <td>60</td>\n",
       "      <td>65</td>\n",
       "    </tr>\n",
       "  </tbody>\n",
       "</table>\n",
       "</div>"
      ],
      "text/plain": [
       "                                                   id  downloadCount  \\\n",
       "0   https://doi.org/10.14291/tccon.ggg2014.darwin0...              6   \n",
       "1   https://doi.org/10.14291/tccon.ggg2014.wollong...              7   \n",
       "2   https://doi.org/10.14291/tccon.ggg2014.orleans...              1   \n",
       "3   https://doi.org/10.14291/tccon.ggg2014.bremen0...              2   \n",
       "4   https://doi.org/10.14291/tccon.ggg2014.bialyst...              1   \n",
       "5   https://doi.org/10.14291/tccon.ggg2014.nyalesu...              1   \n",
       "6              https://doi.org/10.1594/pangaea.848263              0   \n",
       "7              https://doi.org/10.1594/pangaea.872007              0   \n",
       "8   https://doi.org/10.14291/tccon.ggg2014.nyalesu...              1   \n",
       "9   https://doi.org/10.14291/tccon.ggg2014.bremen0...              2   \n",
       "10  https://doi.org/10.14291/tccon.ggg2014.bialyst...              5   \n",
       "11  https://doi.org/10.14291/tccon.ggg2014.orleans...              5   \n",
       "\n",
       "    viewCount  citationCount  Index  wtIndex  \n",
       "0          75             24    105      183  \n",
       "1          65             20     92      159  \n",
       "2          18             19     38       96  \n",
       "3          18             15     35       82  \n",
       "4          21             11     33       67  \n",
       "5          10              1     12       16  \n",
       "6           0              0      0        0  \n",
       "7           0              0      0        0  \n",
       "8          44              0     45       46  \n",
       "9          51              0     53       55  \n",
       "10         34              0     39       44  \n",
       "11         55              0     60       65  "
      ]
     },
     "metadata": {},
     "output_type": "display_data"
    }
   ],
   "source": [
    "import numpy as np\n",
    "dCwt=2\n",
    "vCwt=1\n",
    "cCwt=4\n",
    "datasets_data['Index'] = (datasets_data['downloadCount'] + datasets_data['viewCount'] + datasets_data['citationCount'])\n",
    "datasets_data['wtIndex'] = (dCwt*datasets_data['downloadCount'] + vCwt*datasets_data['viewCount'] + cCwt*datasets_data['citationCount'])\n",
    "#datasets_data['expIndex'] = 10*np.exp((-(datasets_data['downloadCount']/10 + datasets_data['viewCount']/20 + datasets_data['citationCount'])))\n",
    "\n",
    "display(datasets_data)"
   ]
  },
  {
   "cell_type": "code",
   "execution_count": 12,
   "metadata": {},
   "outputs": [
    {
     "data": {
      "text/plain": [
       "<AxesSubplot:ylabel='citationCount'>"
      ]
     },
     "execution_count": 12,
     "metadata": {},
     "output_type": "execute_result"
    },
    {
     "data": {
      "image/png": "[encoded data removed]",
      "text/plain": [
       "<Figure size 504x504 with 1 Axes>"
      ]
     },
     "metadata": {},
     "output_type": "display_data"
    },
    {
     "data": {
      "image/png": "[encoded data removed]",
      "text/plain": [
       "<Figure size 504x504 with 1 Axes>"
      ]
     },
     "metadata": {},
     "output_type": "display_data"
    },
    {
     "data": {
      "image/png": "[encoded data removed]",
      "text/plain": [
       "<Figure size 504x504 with 1 Axes>"
      ]
     },
     "metadata": {},
     "output_type": "display_data"
    }
   ],
   "source": [
    "datasets_data.plot.pie(y='downloadCount', figsize=(7,7))\n",
    "datasets_data.plot.pie(y='viewCount', figsize=(7,7))\n",
    "datasets_data.plot.pie(y='citationCount', figsize=(7,7))"
   ]
  },
  {
   "cell_type": "code",
   "execution_count": 13,
   "metadata": {},
   "outputs": [
    {
     "data": {
      "text/html": [
       "<div>\n",
       "<style scoped>\n",
       "    .dataframe tbody tr th:only-of-type {\n",
       "        vertical-align: middle;\n",
       "    }\n",
       "\n",
       "    .dataframe tbody tr th {\n",
       "        vertical-align: top;\n",
       "    }\n",
       "\n",
       "    .dataframe thead th {\n",
       "        text-align: right;\n",
       "    }\n",
       "</style>\n",
       "<table border=\"1\" class=\"dataframe\">\n",
       "  <thead>\n",
       "    <tr style=\"text-align: right;\">\n",
       "      <th></th>\n",
       "      <th>id</th>\n",
       "      <th>downloadCount</th>\n",
       "      <th>viewCount</th>\n",
       "      <th>citationCount</th>\n",
       "      <th>Index</th>\n",
       "      <th>wtIndex</th>\n",
       "    </tr>\n",
       "  </thead>\n",
       "  <tbody>\n",
       "    <tr>\n",
       "      <th>0</th>\n",
       "      <td>https://doi.org/10.14291/tccon.ggg2014.darwin0...</td>\n",
       "      <td>6</td>\n",
       "      <td>75</td>\n",
       "      <td>24</td>\n",
       "      <td>105</td>\n",
       "      <td>183</td>\n",
       "    </tr>\n",
       "    <tr>\n",
       "      <th>1</th>\n",
       "      <td>https://doi.org/10.14291/tccon.ggg2014.wollong...</td>\n",
       "      <td>7</td>\n",
       "      <td>65</td>\n",
       "      <td>20</td>\n",
       "      <td>92</td>\n",
       "      <td>159</td>\n",
       "    </tr>\n",
       "    <tr>\n",
       "      <th>11</th>\n",
       "      <td>https://doi.org/10.14291/tccon.ggg2014.orleans...</td>\n",
       "      <td>5</td>\n",
       "      <td>55</td>\n",
       "      <td>0</td>\n",
       "      <td>60</td>\n",
       "      <td>65</td>\n",
       "    </tr>\n",
       "    <tr>\n",
       "      <th>9</th>\n",
       "      <td>https://doi.org/10.14291/tccon.ggg2014.bremen0...</td>\n",
       "      <td>2</td>\n",
       "      <td>51</td>\n",
       "      <td>0</td>\n",
       "      <td>53</td>\n",
       "      <td>55</td>\n",
       "    </tr>\n",
       "    <tr>\n",
       "      <th>8</th>\n",
       "      <td>https://doi.org/10.14291/tccon.ggg2014.nyalesu...</td>\n",
       "      <td>1</td>\n",
       "      <td>44</td>\n",
       "      <td>0</td>\n",
       "      <td>45</td>\n",
       "      <td>46</td>\n",
       "    </tr>\n",
       "    <tr>\n",
       "      <th>10</th>\n",
       "      <td>https://doi.org/10.14291/tccon.ggg2014.bialyst...</td>\n",
       "      <td>5</td>\n",
       "      <td>34</td>\n",
       "      <td>0</td>\n",
       "      <td>39</td>\n",
       "      <td>44</td>\n",
       "    </tr>\n",
       "    <tr>\n",
       "      <th>4</th>\n",
       "      <td>https://doi.org/10.14291/tccon.ggg2014.bialyst...</td>\n",
       "      <td>1</td>\n",
       "      <td>21</td>\n",
       "      <td>11</td>\n",
       "      <td>33</td>\n",
       "      <td>67</td>\n",
       "    </tr>\n",
       "    <tr>\n",
       "      <th>2</th>\n",
       "      <td>https://doi.org/10.14291/tccon.ggg2014.orleans...</td>\n",
       "      <td>1</td>\n",
       "      <td>18</td>\n",
       "      <td>19</td>\n",
       "      <td>38</td>\n",
       "      <td>96</td>\n",
       "    </tr>\n",
       "    <tr>\n",
       "      <th>3</th>\n",
       "      <td>https://doi.org/10.14291/tccon.ggg2014.bremen0...</td>\n",
       "      <td>2</td>\n",
       "      <td>18</td>\n",
       "      <td>15</td>\n",
       "      <td>35</td>\n",
       "      <td>82</td>\n",
       "    </tr>\n",
       "    <tr>\n",
       "      <th>5</th>\n",
       "      <td>https://doi.org/10.14291/tccon.ggg2014.nyalesu...</td>\n",
       "      <td>1</td>\n",
       "      <td>10</td>\n",
       "      <td>1</td>\n",
       "      <td>12</td>\n",
       "      <td>16</td>\n",
       "    </tr>\n",
       "    <tr>\n",
       "      <th>6</th>\n",
       "      <td>https://doi.org/10.1594/pangaea.848263</td>\n",
       "      <td>0</td>\n",
       "      <td>0</td>\n",
       "      <td>0</td>\n",
       "      <td>0</td>\n",
       "      <td>0</td>\n",
       "    </tr>\n",
       "    <tr>\n",
       "      <th>7</th>\n",
       "      <td>https://doi.org/10.1594/pangaea.872007</td>\n",
       "      <td>0</td>\n",
       "      <td>0</td>\n",
       "      <td>0</td>\n",
       "      <td>0</td>\n",
       "      <td>0</td>\n",
       "    </tr>\n",
       "  </tbody>\n",
       "</table>\n",
       "</div>"
      ],
      "text/plain": [
       "                                                   id  downloadCount  \\\n",
       "0   https://doi.org/10.14291/tccon.ggg2014.darwin0...              6   \n",
       "1   https://doi.org/10.14291/tccon.ggg2014.wollong...              7   \n",
       "11  https://doi.org/10.14291/tccon.ggg2014.orleans...              5   \n",
       "9   https://doi.org/10.14291/tccon.ggg2014.bremen0...              2   \n",
       "8   https://doi.org/10.14291/tccon.ggg2014.nyalesu...              1   \n",
       "10  https://doi.org/10.14291/tccon.ggg2014.bialyst...              5   \n",
       "4   https://doi.org/10.14291/tccon.ggg2014.bialyst...              1   \n",
       "2   https://doi.org/10.14291/tccon.ggg2014.orleans...              1   \n",
       "3   https://doi.org/10.14291/tccon.ggg2014.bremen0...              2   \n",
       "5   https://doi.org/10.14291/tccon.ggg2014.nyalesu...              1   \n",
       "6              https://doi.org/10.1594/pangaea.848263              0   \n",
       "7              https://doi.org/10.1594/pangaea.872007              0   \n",
       "\n",
       "    viewCount  citationCount  Index  wtIndex  \n",
       "0          75             24    105      183  \n",
       "1          65             20     92      159  \n",
       "11         55              0     60       65  \n",
       "9          51              0     53       55  \n",
       "8          44              0     45       46  \n",
       "10         34              0     39       44  \n",
       "4          21             11     33       67  \n",
       "2          18             19     38       96  \n",
       "3          18             15     35       82  \n",
       "5          10              1     12       16  \n",
       "6           0              0      0        0  \n",
       "7           0              0      0        0  "
      ]
     },
     "metadata": {},
     "output_type": "display_data"
    },
    {
     "data": {
      "text/plain": [
       "12"
      ]
     },
     "metadata": {},
     "output_type": "display_data"
    },
    {
     "data": {
      "text/plain": [
       "75"
      ]
     },
     "metadata": {},
     "output_type": "display_data"
    }
   ],
   "source": [
    "dd_sort_views=datasets_data.sort_values(by=['viewCount'], ascending=False)\n",
    "ids = dd_sort_views['id'].value_counts()\n",
    "maxi = dd_sort_views['viewCount'].max()\n",
    "display(dd_sort_views,ids.sum(),maxi)"
   ]
  },
  {
   "cell_type": "code",
   "execution_count": null,
   "metadata": {},
   "outputs": [],
   "source": [
    "\n",
    "seriesObj = dd_sort_views.apply(lambda x: True if x['downloadCount'] > 0 else False , axis=1)\n",
    "display(len(dd_sort_views['downloadCount'].index))\n",
    "seriesObj.__class__\n",
    "li=pd.Series([*range(len(dd_sort_views['downloadCount'].index),0,-1)])\n",
    "dcdf=pd.DataFrame(dd_sort_views['downloadCount'].sort_values(ascending = False))\n",
    "dcdf['li'] = [*range(len(dd_sort_views['downloadCount'].index),0,-1)]\n",
    "dcdf['lis']=dcdf.apply(lambda x: x.li == x.downloadCount, axis=1)\n",
    "\n",
    "\n",
    "\n",
    "display(dcdf)"
   ]
  },
  {
   "cell_type": "code",
   "execution_count": 130,
   "metadata": {},
   "outputs": [
    {
     "name": "stdout",
     "output_type": "stream",
     "text": [
      "5\n"
     ]
    }
   ],
   "source": [
    "import numpy as np\n",
    "import math\n",
    "descending_df = pd.DataFrame(datasets_data['downloadCount'])\n",
    "descending_df.columns = ['count']\n",
    "descending_df=descending_df.sort_values(by=['count'], ascending=False)\n",
    "series = descending_df.apply(lambda x: True if x['count'] > 0 else False , axis=1)\n",
    "cited_papers = len(series[series == True].index)\n",
    "\n",
    "ranger = [cited_papers,0,-1]\n",
    "g_max = math.floor(np.sqrt(descending_df['count'].sum()))\n",
    "\n",
    "if g_max <= cited_papers:\n",
    "    g = g_max\n",
    "else:\n",
    "    g = 0\n",
    "    k = True\n",
    "    while k:\n",
    "        g += 1 \n",
    "        if g >= g_max:\n",
    "            k = False\n",
    "    \n",
    "print(g)\n",
    "    \n",
    "\n",
    "\n"
   ]
  },
  {
   "cell_type": "code",
   "execution_count": null,
   "metadata": {},
   "outputs": [],
   "source": [
    "def f(x):\n",
    "    return x*2\n",
    "    "
   ]
  },
  {
   "cell_type": "code",
   "execution_count": null,
   "metadata": {},
   "outputs": [],
   "source": [
    "seriesObj = dd_sort_views['citationCount'].apply(lambda x: True if x > 0 else False)"
   ]
  },
  {
   "cell_type": "code",
   "execution_count": null,
   "metadata": {},
   "outputs": [],
   "source": [
    "[h_index(dd_sort_views['downloadCount']),h_index(dd_sort_views['viewCount']),h_index(dd_sort_views['citationCount'])]"
   ]
  },
  {
   "cell_type": "code",
   "execution_count": null,
   "metadata": {},
   "outputs": [],
   "source": [
    "(dd_sort_views['downloadCount'].sum())/(dd_sort_views['downloadCount'].shape[0])"
   ]
  },
  {
   "cell_type": "code",
   "execution_count": null,
   "metadata": {},
   "outputs": [],
   "source": []
  }
 ],
 "metadata": {
  "kernelspec": {
   "display_name": "Python 3",
   "language": "python",
   "name": "python3"
  },
  "language_info": {
   "codemirror_mode": {
    "name": "ipython",
    "version": 3
   },
   "file_extension": ".py",
   "mimetype": "text/x-python",
   "name": "python",
   "nbconvert_exporter": "python",
   "pygments_lexer": "ipython3",
   "version": "3.8.3"
  }
 },
 "nbformat": 4,
 "nbformat_minor": 4
}
